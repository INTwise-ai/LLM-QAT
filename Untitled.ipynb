{
 "cells": [
  {
   "cell_type": "code",
   "execution_count": 2,
   "id": "8b716c67-4cc7-48fe-a710-dc099d47fda4",
   "metadata": {},
   "outputs": [
    {
     "name": "stderr",
     "output_type": "stream",
     "text": [
      "/root/autodl-tmp/users/lihe/miniconda3/envs/tch2/lib/python3.11/site-packages/tqdm/auto.py:21: TqdmWarning: IProgress not found. Please update jupyter and ipywidgets. See https://ipywidgets.readthedocs.io/en/stable/user_install.html\n",
      "  from .autonotebook import tqdm as notebook_tqdm\n"
     ]
    }
   ],
   "source": [
    "from models.configuration_llama import LlamaConfig\n",
    "from models.modeling_llama_quant import LlamaForCausalLM as LlamaForCausalLMQuant\n",
    "from transformers import AutoTokenizer\n",
    "import torch"
   ]
  },
  {
   "cell_type": "code",
   "execution_count": 4,
   "id": "1b2516fb-aa08-46d5-8c5a-c2b0a8b08ef8",
   "metadata": {},
   "outputs": [],
   "source": [
    "hf = \"NousResearch/Meta-Llama-3-8B\"\n",
    "config = LlamaConfig.from_pretrained(hf)\n",
    "config.kv_bits = 8"
   ]
  },
  {
   "cell_type": "code",
   "execution_count": 5,
   "id": "ed09de6f-5923-4cab-8e1c-32fab578b135",
   "metadata": {},
   "outputs": [
    {
     "name": "stderr",
     "output_type": "stream",
     "text": [
      "Special tokens have been added in the vocabulary, make sure the associated word embeddings are fine-tuned or trained.\n"
     ]
    },
    {
     "data": {
      "text/plain": [
       "{'input_ids': [128000, 9906], 'attention_mask': [1, 1]}"
      ]
     },
     "execution_count": 5,
     "metadata": {},
     "output_type": "execute_result"
    }
   ],
   "source": [
    "t = AutoTokenizer.from_pretrained(hf)\n",
    "t(\"Hello\")"
   ]
  },
  {
   "cell_type": "code",
   "execution_count": 7,
   "id": "26079cd4-344a-469a-bf62-574d4ebe24c1",
   "metadata": {},
   "outputs": [
    {
     "name": "stderr",
     "output_type": "stream",
     "text": [
      "Loading checkpoint shards: 100%|██████████████████████████████████████████████████████████████████████████████████████████████████████████████| 4/4 [00:05<00:00,  1.35s/it]\n"
     ]
    }
   ],
   "source": [
    "model = LlamaForCausalLMQuant.from_pretrained(hf, config=config, torch_dtype=torch.bfloat16, device_map=\"cuda:2\")"
   ]
  },
  {
   "cell_type": "code",
   "execution_count": null,
   "id": "db982359-6e26-4b57-b044-107a7fe3391d",
   "metadata": {},
   "outputs": [],
   "source": [
    "model.generate(torch.tensor([[128000,   9906]]).cuda(2))"
   ]
  },
  {
   "cell_type": "code",
   "execution_count": null,
   "id": "4a2a9ed2-275a-4c5d-82f0-789d96464c41",
   "metadata": {},
   "outputs": [],
   "source": []
  }
 ],
 "metadata": {
  "kernelspec": {
   "display_name": "tch2",
   "language": "python",
   "name": "tch2"
  },
  "language_info": {
   "codemirror_mode": {
    "name": "ipython",
    "version": 3
   },
   "file_extension": ".py",
   "mimetype": "text/x-python",
   "name": "python",
   "nbconvert_exporter": "python",
   "pygments_lexer": "ipython3",
   "version": "3.11.9"
  }
 },
 "nbformat": 4,
 "nbformat_minor": 5
}
