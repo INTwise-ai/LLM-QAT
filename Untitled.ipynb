{
 "cells": [
  {
   "cell_type": "code",
   "execution_count": 1,
   "id": "8b716c67-4cc7-48fe-a710-dc099d47fda4",
   "metadata": {},
   "outputs": [
    {
     "name": "stderr",
     "output_type": "stream",
     "text": [
      "/root/autodl-tmp/users/lihe/miniconda3/envs/tch2/lib/python3.11/site-packages/tqdm/auto.py:21: TqdmWarning: IProgress not found. Please update jupyter and ipywidgets. See https://ipywidgets.readthedocs.io/en/stable/user_install.html\n",
      "  from .autonotebook import tqdm as notebook_tqdm\n"
     ]
    }
   ],
   "source": [
    "from models.configuration_llama import LlamaConfig\n",
    "from models.modeling_llama_quant import LlamaForCausalLM as LlamaForCausalLMQuant\n",
    "import torch"
   ]
  },
  {
   "cell_type": "code",
   "execution_count": 2,
   "id": "1b2516fb-aa08-46d5-8c5a-c2b0a8b08ef8",
   "metadata": {},
   "outputs": [],
   "source": [
    "hf = \"NousResearch/Meta-Llama-3-8B\"\n",
    "config = LlamaConfig.from_pretrained(hf)\n",
    "config.kv_bits = 8"
   ]
  },
  {
   "cell_type": "code",
   "execution_count": 3,
   "id": "26079cd4-344a-469a-bf62-574d4ebe24c1",
   "metadata": {},
   "outputs": [
    {
     "name": "stderr",
     "output_type": "stream",
     "text": [
      "Loading checkpoint shards: 100%|█| 4/4 [00:03<00:00,  1.22it/\n"
     ]
    }
   ],
   "source": [
    "model3 = LlamaForCausalLMQuant.from_pretrained(hf, config=config)"
   ]
  },
  {
   "cell_type": "code",
   "execution_count": 4,
   "id": "db982359-6e26-4b57-b044-107a7fe3391d",
   "metadata": {},
   "outputs": [
    {
     "name": "stderr",
     "output_type": "stream",
     "text": [
      "The attention mask and the pad token id were not set. As a consequence, you may observe unexpected behavior. Please pass your input's `attention_mask` to obtain reliable results.\n",
      "Setting `pad_token_id` to `eos_token_id`:128001 for open-end generation.\n"
     ]
    },
    {
     "data": {
      "text/plain": [
       "tensor([[128000,   9906,     11,    358,   4344,   8173,    304,    220,    868,\n",
       "          15978,   3002,    323,   1053,   1093,    311,   1935,    264,   1427,\n",
       "           2212,    627,    791,   3649,    389,    220,    868,  15978,   3002,\n",
       "             25,   1115,   3838,   7559,    304,   6460,    263,     11,  19084,\n",
       "            220,  23835,    717,    374,   5131,    369,   6412,    369,    400,\n",
       "          15531,     11,   7467,     13,    220,    868,  15978,   3002,    374,\n",
       "            264,    220,     16,     11,   5067,   9518,   4579,   3838,    449,\n",
       "            220,     18,  28036,    323,    220,     17,  59300,    430,    706,\n",
       "           1027,    389,   9589,   2718,    369,    220,     23,   2919,     13,\n",
       "           1115,   3838,    374,    304,    279,  28116,   3158,    315,  33007,\n",
       "          92498,  41763,   6150,     11,   6460,    263,  61748,   6150,     11,\n",
       "            323,   6460,    263,   5234,   6150,    627,  53664,  54197,    315,\n",
       "             25,  29998,     44,    323,  91375,  91668,  14075,   8014,   3998,\n",
       "             13, 128001]])"
      ]
     },
     "execution_count": 4,
     "metadata": {},
     "output_type": "execute_result"
    }
   ],
   "source": [
    "model3.generate(torch.tensor([[128000,   9906]]))"
   ]
  }
 ],
 "metadata": {
  "kernelspec": {
   "display_name": "tch2",
   "language": "python",
   "name": "tch2"
  },
  "language_info": {
   "codemirror_mode": {
    "name": "ipython",
    "version": 3
   },
   "file_extension": ".py",
   "mimetype": "text/x-python",
   "name": "python",
   "nbconvert_exporter": "python",
   "pygments_lexer": "ipython3",
   "version": "3.11.9"
  }
 },
 "nbformat": 4,
 "nbformat_minor": 5
}
